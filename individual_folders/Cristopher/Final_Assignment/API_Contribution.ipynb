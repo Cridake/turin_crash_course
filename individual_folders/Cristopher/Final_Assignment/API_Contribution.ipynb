{
 "cells": [
  {
   "cell_type": "markdown",
   "metadata": {},
   "source": [
    "# API Contribution\n",
    "### by Cristopher Montenegro"
   ]
  },
  {
   "cell_type": "markdown",
   "metadata": {},
   "source": [
    "### Open Weather\n",
    "* **Main website**: https://openweathermap.org/\n",
    "* **API docs**: https://openweathermap.org/appid\n",
    "* **Purpose:** OpenWeatherMap provides a wide range of weather APIs, including the versatile One Call API 3.0, offering current weather, minute-by-minute forecasts, historical data archives, and future predictions.\n",
    "* **Example use cases:**\n",
    "    Accessing current weather data, minute-by-minute forecasts, historical weather data, global weather maps, solar irradiance predictions, and air pollution data.\n",
    "* **Free API calls**: It is recommended to make API calls no more than once every 10 minutes for each location. The only endpoint for making free API calls is api.openweathermap.org.\n",
    "* **Rate limiting for free usage**: The update frequency of the OpenWeather model is not higher than once every 10 minutes.\n",
    "* **Other Limitations:** \n",
    "    * Users need to obtain a personal API key (APPID) to use the services.\n",
    "    * The API offers a variety of weather data products and APIs suitable for a range of applications, from simple to complex enterprise-level systems.\n"
   ]
  },
  {
   "cell_type": "code",
   "execution_count": 1,
   "metadata": {
    "vscode": {
     "languageId": "shellscript"
    }
   },
   "outputs": [],
   "source": [
    "# To create a key, you first need to create a profile. \n",
    "# Once you have created a profile, you can proceed to generate your key in \"My API keys\".\n",
    "\n",
    "API_KEY=\"d15258c57b8467e9abbd7ce20ed95c35\""
   ]
  },
  {
   "cell_type": "code",
   "execution_count": 3,
   "metadata": {
    "vscode": {
     "languageId": "shellscript"
    }
   },
   "outputs": [
    {
     "name": "stdout",
     "output_type": "stream",
     "text": [
      "Weather in London,UK:\n",
      "Temperature: 8.34°C\n",
      "Humidity: 90%\n",
      "Description: moderate rain\n",
      "------------------------\n",
      "Weather in Rome,IT:\n",
      "Temperature: 15.94°C\n",
      "Humidity: 51%\n",
      "Description: clear sky\n",
      "------------------------\n",
      "Weather in Tokyo,JP:\n",
      "Temperature: 16.78°C\n",
      "Humidity: 91%\n",
      "Description: few clouds\n",
      "------------------------\n"
     ]
    }
   ],
   "source": [
    "#Bash\n",
    "\n",
    "#!/bin/bash\n",
    "\n",
    "# Define the API endpoint and parameters\n",
    "url=\"https://api.openweathermap.org/data/2.5/weather\"\n",
    "api_key=\"d15258c57b8467e9abbd7ce20ed95c35\"\n",
    "cities=(\"London,UK\" \"Rome,IT\" \"Tokyo,JP\")\n",
    "\n",
    "# Iterate over the cities and fetch weather data\n",
    "for city in \"${cities[@]}\"; do\n",
    "    params=\"q=${city}&appid=${api_key}&units=metric\"\n",
    "\n",
    "    # Send a GET request to the API endpoint\n",
    "    response=$(curl -s \"${url}?${params}\")\n",
    "\n",
    "    # Check if the request was successful\n",
    "    if [[ $? -eq 0 ]]; then\n",
    "        # Parse the JSON response\n",
    "        temperature=$(echo \"${response}\" | jq -r '.main.temp')\n",
    "        humidity=$(echo \"${response}\" | jq -r '.main.humidity')\n",
    "        description=$(echo \"${response}\" | jq -r '.weather[0].description')\n",
    "\n",
    "        # Print the weather data for the city\n",
    "        echo \"Weather in ${city}:\"\n",
    "        echo \"Temperature: ${temperature}°C\"\n",
    "        echo \"Humidity: ${humidity}%\"\n",
    "        echo \"Description: ${description}\"\n",
    "        echo \"------------------------\"\n",
    "    else\n",
    "        echo \"Failed to fetch weather data for ${city}\"\n",
    "    fi\n",
    "done"
   ]
  },
  {
   "cell_type": "code",
   "execution_count": 1,
   "metadata": {
    "vscode": {
     "languageId": "shellscript"
    }
   },
   "outputs": [
    {
     "name": "stdout",
     "output_type": "stream",
     "text": [
      "Weather in London,UK:\n",
      "Temperature: 8.33°C\n",
      "Humidity: 91%\n",
      "Description: moderate rain\n",
      "------------------------\n",
      "Weather in Rome,IT:\n",
      "Temperature: 16°C\n",
      "Humidity: 51%\n",
      "Description: clear sky\n",
      "------------------------\n",
      "Weather in Tokyo,JP:\n",
      "Temperature: 16.78°C\n",
      "Humidity: 91%\n",
      "Description: few clouds\n",
      "------------------------\n"
     ]
    }
   ],
   "source": [
    "# Python 3.10.13\n",
    "\n",
    "import requests\n",
    "\n",
    "# Define the API endpoint and parameters\n",
    "url = \"https://api.openweathermap.org/data/2.5/weather\"\n",
    "api_key = \"d15258c57b8467e9abbd7ce20ed95c35\"\n",
    "cities = [\"London,UK\", \"Rome,IT\", \"Tokyo,JP\"]\n",
    "\n",
    "# Iterate over the cities and fetch weather data\n",
    "for city in cities:\n",
    "    params = {\n",
    "        \"q\": city,\n",
    "        \"appid\": api_key,\n",
    "        \"units\": \"metric\"\n",
    "    }\n",
    "\n",
    "    # Send a GET request to the API endpoint\n",
    "    response = requests.get(url, params=params)\n",
    "\n",
    "    # Check if the request was successful\n",
    "    if response.status_code == 200:\n",
    "        # Parse the JSON response\n",
    "        data = response.json()\n",
    "\n",
    "        # Extract relevant information from the response\n",
    "        temperature = data[\"main\"][\"temp\"]\n",
    "        humidity = data[\"main\"][\"humidity\"]\n",
    "        description = data[\"weather\"][0][\"description\"]\n",
    "\n",
    "        # Print the weather data for the city\n",
    "        print(f\"Weather in {city}:\")\n",
    "        print(f\"Temperature: {temperature}°C\")\n",
    "        print(f\"Humidity: {humidity}%\")\n",
    "        print(f\"Description: {description}\")\n",
    "        print(\"------------------------\")\n",
    "    else:\n",
    "        print(f\"Failed to fetch weather data for {city}\")\n"
   ]
  }
 ],
 "metadata": {
  "kernelspec": {
   "display_name": "Python 3",
   "language": "python",
   "name": "python3"
  },
  "language_info": {
   "codemirror_mode": {
    "name": "ipython",
    "version": 3
   },
   "file_extension": ".py",
   "mimetype": "text/x-python",
   "name": "python",
   "nbconvert_exporter": "python",
   "pygments_lexer": "ipython3",
   "version": "3.10.13"
  }
 },
 "nbformat": 4,
 "nbformat_minor": 2
}
