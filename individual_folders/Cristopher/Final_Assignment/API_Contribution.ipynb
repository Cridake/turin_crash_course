{
 "cells": [
  {
   "cell_type": "markdown",
   "metadata": {},
   "source": [
    "# API Contribution\n",
    "### by Cristopher Montenegro"
   ]
  },
  {
   "cell_type": "markdown",
   "metadata": {},
   "source": [
    "### Open Weather\n",
    "* **Main website**: https://openweathermap.org/\n",
    "* **API docs**: https://openweathermap.org/appid\n",
    "* **Purpose:** OpenWeatherMap provides a wide range of weather APIs, including the versatile One Call API 3.0, offering current weather, minute-by-minute forecasts, historical data archives, and future predictions.\n",
    "* **Example use cases:**\n",
    "    Accessing current weather data, minute-by-minute forecasts, historical weather data, global weather maps, solar irradiance predictions, and air pollution data.\n",
    "* **Free API calls**: It is recommended to make API calls no more than once every 10 minutes for each location. The only endpoint for making free API calls is api.openweathermap.org.\n",
    "* **Rate limiting for free usage**: The update frequency of the OpenWeather model is not higher than once every 10 minutes.\n",
    "* **Other Limitations:** \n",
    "    * Users need to obtain a personal API key (APPID) to use the services.\n",
    "    * The API offers a variety of weather data products and APIs suitable for a range of applications, from simple to complex enterprise-level systems.\n"
   ]
  },
  {
   "cell_type": "code",
   "execution_count": 1,
   "metadata": {
    "vscode": {
     "languageId": "shellscript"
    }
   },
   "outputs": [],
   "source": [
    "# To create a key, you must first create a profile in the OpenWeather website.\n",
    "# Once you have created a profile, you can proceed to generate your key in \"My API keys\".\n",
    "\n",
    "api_key=\"d15258c57b8467e9abbd7ce20ed95c35\""
   ]
  },
  {
   "cell_type": "code",
   "execution_count": 2,
   "metadata": {
    "vscode": {
     "languageId": "shellscript"
    }
   },
   "outputs": [
    {
     "name": "stdout",
     "output_type": "stream",
     "text": [
      "Weather in London,UK:\n",
      "Temperature: 7.99°C\n",
      "Humidity: 92%\n",
      "Description: heavy intensity rain\n",
      "------------------------\n",
      "Weather in Rome,IT:\n",
      "Temperature: 11.37°C\n",
      "Humidity: 77%\n",
      "Description: clear sky\n",
      "------------------------\n",
      "Weather in Tokyo,JP:\n",
      "Temperature: 27.31°C\n",
      "Humidity: 45%\n",
      "Description: broken clouds\n",
      "------------------------\n"
     ]
    }
   ],
   "source": [
    "#Bash\n",
    "\n",
    "#!/bin/bash\n",
    "\n",
    "# Define the API endpoint and parameters\n",
    "url=\"https://api.openweathermap.org/data/2.5/weather\"\n",
    "api_key=\"d15258c57b8467e9abbd7ce20ed95c35\"\n",
    "cities=(\"London,UK\" \"Rome,IT\" \"Tokyo,JP\")\n",
    "\n",
    "# Iterate over the cities and fetch weather data\n",
    "for city in \"${cities[@]}\"; do\n",
    "    params=\"q=${city}&appid=${api_key}&units=metric\"\n",
    "\n",
    "    # Send a GET request to the API endpoint\n",
    "    response=$(curl -s \"${url}?${params}\")\n",
    "\n",
    "    # Check if the request was successful\n",
    "    if [[ $? -eq 0 ]]; then\n",
    "        # Parse the JSON response\n",
    "        temperature=$(echo \"${response}\" | jq -r '.main.temp')\n",
    "        humidity=$(echo \"${response}\" | jq -r '.main.humidity')\n",
    "        description=$(echo \"${response}\" | jq -r '.weather[0].description')\n",
    "\n",
    "        # Print the weather data for the city\n",
    "        echo \"Weather in ${city}:\"\n",
    "        echo \"Temperature: ${temperature}°C\"\n",
    "        echo \"Humidity: ${humidity}%\"\n",
    "        echo \"Description: ${description}\"\n",
    "        echo \"------------------------\"\n",
    "    else\n",
    "        echo \"Failed to fetch weather data for ${city}\"\n",
    "    fi\n",
    "done"
   ]
  },
  {
   "cell_type": "code",
   "execution_count": 1,
   "metadata": {
    "vscode": {
     "languageId": "shellscript"
    }
   },
   "outputs": [
    {
     "name": "stdout",
     "output_type": "stream",
     "text": [
      "Weather in London,UK:\n",
      "Temperature: 7.97°C\n",
      "Humidity: 92%\n",
      "Description: moderate rain\n",
      "------------------------\n",
      "Weather in Rome,IT:\n",
      "Temperature: 11.13°C\n",
      "Humidity: 76%\n",
      "Description: clear sky\n",
      "------------------------\n",
      "Weather in Tokyo,JP:\n",
      "Temperature: 27.26°C\n",
      "Humidity: 44%\n",
      "Description: broken clouds\n",
      "------------------------\n"
     ]
    }
   ],
   "source": [
    "# Python 3.10.13\n",
    "\n",
    "import requests\n",
    "\n",
    "# Define the API endpoint and parameters\n",
    "url = \"https://api.openweathermap.org/data/2.5/weather\"\n",
    "api_key = \"d15258c57b8467e9abbd7ce20ed95c35\"\n",
    "cities = [\"London,UK\", \"Rome,IT\", \"Tokyo,JP\"]\n",
    "\n",
    "# Iterate over the cities and fetch weather data\n",
    "for city in cities:\n",
    "    params = {\n",
    "        \"q\": city,\n",
    "        \"appid\": api_key,\n",
    "        \"units\": \"metric\"\n",
    "    }\n",
    "\n",
    "    # Send a GET request to the API endpoint\n",
    "    response = requests.get(url, params=params)\n",
    "\n",
    "    # Check if the request was successful\n",
    "    if response.status_code == 200:\n",
    "        # Parse the JSON response\n",
    "        data = response.json()\n",
    "\n",
    "        # Extract relevant information from the response\n",
    "        temperature = data[\"main\"][\"temp\"]\n",
    "        humidity = data[\"main\"][\"humidity\"]\n",
    "        description = data[\"weather\"][0][\"description\"]\n",
    "\n",
    "        # Print the weather data for the city\n",
    "        print(f\"Weather in {city}:\")\n",
    "        print(f\"Temperature: {temperature}°C\")\n",
    "        print(f\"Humidity: {humidity}%\")\n",
    "        print(f\"Description: {description}\")\n",
    "        print(\"------------------------\")\n",
    "    else:\n",
    "        print(f\"Failed to fetch weather data for {city}\")\n"
   ]
  },
  {
   "cell_type": "markdown",
   "metadata": {},
   "source": [
    "### AccuWeather APIs\n",
    "* **Main website**: https://developer.accuweather.com/\n",
    "* **API docs**: https://developer.accuweather.com/apis\n",
    "* **Purpose:** AccuWeather provides a range of weather APIs to access current conditions, forecasts, and historical weather data.\n",
    "* **Example use cases:** Accessing current weather conditions, daily and hourly forecasts, severe weather alerts, historical weather data, and location-based weather information.\n",
    "* **Free API calls**: The free tier of the API allows a limited number of calls 50 calls/day and Limit 1 key/developer. Users need to sign up for an API key to access the services.\n",
    "* **Rate limiting for free usage**: The free tier of the API has rate limits to prevent abuse and ensure fair usage by all users.\n",
    "* **Other Limitations:** \n",
    "    * Users are required to register for an API key to use the services.\n",
    "    * The API provides various weather data products suitable for a wide range of applications, from basic weather information to advanced forecasting systems."
   ]
  },
  {
   "cell_type": "code",
   "execution_count": 1,
   "metadata": {
    "vscode": {
     "languageId": "shellscript"
    }
   },
   "outputs": [],
   "source": [
    "# To create a key, you must first create a profile in the AccuWeather APIs website.\n",
    "# Once you have created a profile, you can proceed to generate your key in \"My Apps\".\n",
    "\n",
    "api_key=\"RTUTwhGzCh1bdg18rqYXAPcyijDGO1Gx\""
   ]
  },
  {
   "cell_type": "code",
   "execution_count": 2,
   "metadata": {
    "vscode": {
     "languageId": "shellscript"
    }
   },
   "outputs": [
    {
     "name": "stdout",
     "output_type": "stream",
     "text": [
      "Current weather in Rome, Italy:\n",
      "Temperature: 10.7°C\n",
      "Description: Sunny\n",
      "------------------------\n"
     ]
    }
   ],
   "source": [
    "#Bash\n",
    "\n",
    "#!/bin/bash\n",
    "\n",
    "# Set the API key and city code\n",
    "api_key=\"RTUTwhGzCh1bdg18rqYXAPcyijDGO1Gx\"\n",
    "city_code=\"213490\"\n",
    "city=\"Rome, Italy\"\n",
    "\n",
    "# Function to get the current weather\n",
    "get_current_weather() {\n",
    "    url=\"https://dataservice.accuweather.com/currentconditions/v1/$city_code?apikey=$api_key&language=en-us&details=false\"\n",
    "    response=$(curl -s \"$url\")\n",
    "    echo \"$response\"\n",
    "}\n",
    "\n",
    "# Get the current weather\n",
    "current_weather=$(get_current_weather)\n",
    "\n",
    "# Extract the weather information\n",
    "temperature=$(echo \"$current_weather\" | jq -r '.[0].Temperature.Metric.Value')\n",
    "humidity=$(echo \"$current_weather\" | jq -r '.[0].RelativeHumidity')\n",
    "description=$(echo \"$current_weather\" | jq -r '.[0].WeatherText')\n",
    "\n",
    "# Create a text file with weather information\n",
    "echo \"Current weather in ${city}:\"\n",
    "echo \"Temperature: ${temperature}°C\"\n",
    "echo \"Description: ${description}\"\n",
    "echo \"------------------------\""
   ]
  },
  {
   "cell_type": "code",
   "execution_count": 1,
   "metadata": {
    "vscode": {
     "languageId": "shellscript"
    }
   },
   "outputs": [
    {
     "name": "stdout",
     "output_type": "stream",
     "text": [
      "Current weather in Rome, Italy:\n",
      "Temperature: 10.7°C\n",
      "Weather: Sunny\n"
     ]
    }
   ],
   "source": [
    "# Python 3.10.13\n",
    "\n",
    "import requests\n",
    "\n",
    "# Set the API key and city code\n",
    "api_key = 'RTUTwhGzCh1bdg18rqYXAPcyijDGO1Gx'\n",
    "# Code for Rome, Italy\n",
    "city_code = '213490'\n",
    "\n",
    "# Define a function to get the current weather data\n",
    "def get_current_weather(api_key, city_code):\n",
    "    url = f\"https://dataservice.accuweather.com/currentconditions/v1/{city_code}?apikey={api_key}&language=en-us&details=false\"\n",
    "    response = requests.get(url)\n",
    "    data = response.json()\n",
    "    return data\n",
    "\n",
    "# Get the current weather data\n",
    "weather_data = get_current_weather(api_key, city_code)\n",
    "\n",
    "# Extract the relevant information from the response\n",
    "temperature = weather_data[0]['Temperature']['Metric']['Value']\n",
    "weather_text = weather_data[0]['WeatherText']\n",
    "\n",
    "# Print the weather information\n",
    "print(f\"Current weather in Rome, Italy:\")\n",
    "print(f\"Temperature: {temperature}°C\")\n",
    "print(f\"Weather: {weather_text}\")\n"
   ]
  }
 ],
 "metadata": {
  "kernelspec": {
   "display_name": "Python 3",
   "language": "python",
   "name": "python3"
  },
  "language_info": {
   "codemirror_mode": {
    "name": "ipython",
    "version": 3
   },
   "file_extension": ".py",
   "mimetype": "text/x-python",
   "name": "python",
   "nbconvert_exporter": "python",
   "pygments_lexer": "ipython3",
   "version": "3.10.13"
  }
 },
 "nbformat": 4,
 "nbformat_minor": 2
}
